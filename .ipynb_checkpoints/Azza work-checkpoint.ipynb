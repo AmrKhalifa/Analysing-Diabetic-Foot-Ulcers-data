{
 "cells": [
  {
   "cell_type": "code",
   "execution_count": 25,
   "metadata": {},
   "outputs": [],
   "source": [
    "import pandas as pd \n",
    "import matplotlib.pyplot as plt\n",
    "from statsmodels.stats.weightstats import ztest\n",
    "from scipy.stats import chi2_contingency\n",
    "import numpy as np\n",
    "float_formatter = \"{:2.2f}\".format\n",
    "np.set_printoptions(formatter={'float_kind':float_formatter})\n",
    "from collections import Counter\n",
    "from scipy.stats import f_oneway\n",
    "import scikit_posthocs as sp\n",
    "import scipy.stats as ss\n",
    "from sklearn import linear_model\n",
    "from sklearn.linear_model import LinearRegression\n",
    "import statsmodels.api as sm"
   ]
  },
  {
   "cell_type": "code",
   "execution_count": 3,
   "metadata": {},
   "outputs": [],
   "source": [
    "df = pd.read_excel(\"./data/azza_data/AMR.xlsx\")"
   ]
  },
  {
   "cell_type": "code",
   "execution_count": 4,
   "metadata": {},
   "outputs": [],
   "source": [
    "#df.describe()"
   ]
  },
  {
   "cell_type": "code",
   "execution_count": 5,
   "metadata": {},
   "outputs": [],
   "source": [
    "part_1 = df[['scores','Degree']]"
   ]
  },
  {
   "cell_type": "code",
   "execution_count": 6,
   "metadata": {},
   "outputs": [],
   "source": [
    "splits = []\n",
    "for i in range(1,5):\n",
    "    x = part_1.loc[part_1['Degree'] == i]\n",
    "    x = x[['scores']]\n",
    "    splits.append(x)"
   ]
  },
  {
   "cell_type": "markdown",
   "metadata": {},
   "source": [
    "# RESULTS"
   ]
  },
  {
   "cell_type": "code",
   "execution_count": 7,
   "metadata": {},
   "outputs": [
    {
     "name": "stdout",
     "output_type": "stream",
     "text": [
      "Assuming Normal distribution .. Parametric ANOVA\n",
      "static P-value\n",
      "[3.04] [0.03]\n"
     ]
    }
   ],
   "source": [
    "array =[item.values for item in splits]\n",
    "a, b, c, d = tuple(array)\n",
    "s, pval = f_oneway(a, b, c, d)\n",
    "print(\"Assuming Normal distribution .. Parametric ANOVA\")\n",
    "print('static P-value')\n",
    "print(s, pval)\n"
   ]
  },
  {
   "cell_type": "code",
   "execution_count": 8,
   "metadata": {},
   "outputs": [
    {
     "name": "stdout",
     "output_type": "stream",
     "text": [
      "Not assuming Normal distribution .. Non-Parametric ANOVA\n",
      "static  P-value\n",
      "8.267   0.041\n"
     ]
    }
   ],
   "source": [
    "H, pval = ss.kruskal(a, b, c, d)\n",
    "print(\"Not assuming Normal distribution .. Non-Parametric ANOVA\")\n",
    "print('static  P-value')\n",
    "print(\"{:.3f}   {:.3f}\".format(float(H), float(pval)))"
   ]
  },
  {
   "cell_type": "code",
   "execution_count": 9,
   "metadata": {},
   "outputs": [
    {
     "name": "stdout",
     "output_type": "stream",
     "text": [
      "Post-Hoc ANOVA\n",
      "          1         2         3         4\n",
      "1 -1.000000  0.017130  0.526673  0.126302\n",
      "2  0.017130 -1.000000  0.014585  0.168235\n",
      "3  0.526673  0.014585 -1.000000  0.175683\n",
      "4  0.126302  0.168235  0.175683 -1.000000\n"
     ]
    },
    {
     "data": {
      "image/png": "[encoded data removed]",
      "text/plain": [
       "<Figure size 432x288 with 2 Axes>"
      ]
     },
     "metadata": {
      "needs_background": "light"
     },
     "output_type": "display_data"
    }
   ],
   "source": [
    "pc = sp.posthoc_conover(part_1, val_col='scores', group_col='Degree')\n",
    "cmap = ['1', '#fb6a4a',  '#08306b',  '#4292c6', '#c6dbef']\n",
    "heatmap_args = {'cmap': cmap, 'linewidths': 0.25, 'linecolor': '0.5', 'clip_on': False, 'square': True, 'cbar_ax_bbox': [0.80, 0.35, 0.04, 0.3]}\n",
    "sp.sign_plot(pc, **heatmap_args)\n",
    "print(\"Post-Hoc ANOVA\")\n",
    "print(pc)\n"
   ]
  },
  {
   "cell_type": "code",
   "execution_count": 10,
   "metadata": {},
   "outputs": [
    {
     "name": "stdout",
     "output_type": "stream",
     "text": [
      "Post-Hoc ANOVA\n",
      "          1         2         3         4\n",
      "1 -1.000000  0.009089  0.535076  0.096966\n",
      "2  0.009089 -1.000000  0.013543  0.190422\n",
      "3  0.535076  0.013543 -1.000000  0.136714\n",
      "4  0.096966  0.190422  0.136714 -1.000000\n"
     ]
    },
    {
     "data": {
      "image/png": "[encoded data removed]",
      "text/plain": [
       "<Figure size 432x288 with 2 Axes>"
      ]
     },
     "metadata": {
      "needs_background": "light"
     },
     "output_type": "display_data"
    }
   ],
   "source": [
    "pc = sp.posthoc_ttest(part_1, val_col='scores', group_col='Degree')\n",
    "cmap = ['1', '#fb6a4a',  '#08306b',  '#4292c6', '#c6dbef']\n",
    "heatmap_args = {'cmap': cmap, 'linewidths': 0.25, 'linecolor': '0.5', 'clip_on': False, 'square': True, 'cbar_ax_bbox': [0.80, 0.35, 0.04, 0.3]}\n",
    "sp.sign_plot(pc, **heatmap_args)\n",
    "print(\"Post-Hoc ANOVA\")\n",
    "print(pc)"
   ]
  },
  {
   "cell_type": "markdown",
   "metadata": {},
   "source": [
    "# Linear Regression "
   ]
  },
  {
   "cell_type": "code",
   "execution_count": 43,
   "metadata": {},
   "outputs": [],
   "source": [
    "cols = list(df.columns)\n",
    "cols = [item for item in cols if item != 'approach']\n",
    "x_cols = [item for item in cols if item not in ['scores', 'USA', 'UK','Developing']]\n",
    "y_cols = 'scores'\n",
    "y_cols_logis = 'approach'\n",
    "x_data = df[x_cols]\n",
    "y_data_LR = df[y_cols]\n",
    "y_data_LoR = df[y_cols_logis]"
   ]
  },
  {
   "cell_type": "code",
   "execution_count": 44,
   "metadata": {},
   "outputs": [
    {
     "name": "stdout",
     "output_type": "stream",
     "text": [
      "                                 OLS Regression Results                                \n",
      "=======================================================================================\n",
      "Dep. Variable:                 scores   R-squared (uncentered):                   0.893\n",
      "Model:                            OLS   Adj. R-squared (uncentered):              0.889\n",
      "Method:                 Least Squares   F-statistic:                              239.5\n",
      "Date:                Tue, 17 Dec 2019   Prob (F-statistic):                   2.01e-159\n",
      "Time:                        12:07:16   Log-Likelihood:                         -1087.2\n",
      "No. Observations:                 358   AIC:                                      2198.\n",
      "Df Residuals:                     346   BIC:                                      2245.\n",
      "Df Model:                          12                                                  \n",
      "Covariance Type:            nonrobust                                                  \n",
      "===============================================================================\n",
      "                  coef    std err          t      P>|t|      [0.025      0.975]\n",
      "-------------------------------------------------------------------------------\n",
      "Degree          2.5881      0.249     10.384      0.000       2.098       3.078\n",
      "Years           2.5624      0.473      5.420      0.000       1.632       3.492\n",
      "Textbooks       3.9676      0.701      5.661      0.000       2.589       5.346\n",
      "Jornal          0.6179      0.768      0.805      0.421      -0.892       2.128\n",
      "Internet        0.2514      0.642      0.392      0.695      -1.011       1.513\n",
      "Campaigns       0.9744      0.702      1.389      0.166      -0.406       2.355\n",
      "General        -0.3978      0.629     -0.632      0.528      -1.636       0.840\n",
      "Gender          1.7738      0.552      3.215      0.001       0.689       2.859\n",
      "Public         -2.8590      0.736     -3.882      0.000      -4.308      -1.410\n",
      "Private         4.2871      0.748      5.734      0.000       2.817       5.758\n",
      "Outpatients     0.5299      0.804      0.659      0.510      -1.050       2.110\n",
      "PCC             1.6200      1.088      1.490      0.137      -0.519       3.759\n",
      "==============================================================================\n",
      "Omnibus:                        6.538   Durbin-Watson:                   0.612\n",
      "Prob(Omnibus):                  0.038   Jarque-Bera (JB):                6.706\n",
      "Skew:                          -0.322   Prob(JB):                       0.0350\n",
      "Kurtosis:                       2.813   Cond. No.                         15.0\n",
      "==============================================================================\n",
      "\n",
      "Warnings:\n",
      "[1] Standard Errors assume that the covariance matrix of the errors is correctly specified.\n"
     ]
    }
   ],
   "source": [
    "lr = sm.OLS(y_data_LR, x_data)\n",
    "lr2 = lr.fit()\n",
    "print(lr2.summary())"
   ]
  },
  {
   "cell_type": "markdown",
   "metadata": {},
   "source": [
    "# Logistic Regression "
   ]
  },
  {
   "cell_type": "code",
   "execution_count": 45,
   "metadata": {},
   "outputs": [
    {
     "name": "stdout",
     "output_type": "stream",
     "text": [
      "Optimization terminated successfully.\n",
      "         Current function value: 0.561579\n",
      "         Iterations 6\n",
      "                           Logit Regression Results                           \n",
      "==============================================================================\n",
      "Dep. Variable:               approach   No. Observations:                  358\n",
      "Model:                          Logit   Df Residuals:                      346\n",
      "Method:                           MLE   Df Model:                           11\n",
      "Date:                Tue, 17 Dec 2019   Pseudo R-squ.:                  0.1883\n",
      "Time:                        12:07:21   Log-Likelihood:                -201.05\n",
      "converged:                       True   LL-Null:                       -247.69\n",
      "Covariance Type:            nonrobust   LLR p-value:                 3.755e-15\n",
      "===============================================================================\n",
      "                  coef    std err          z      P>|z|      [0.025      0.975]\n",
      "-------------------------------------------------------------------------------\n",
      "Degree          0.5267      0.123      4.269      0.000       0.285       0.768\n",
      "Years           0.1793      0.208      0.860      0.390      -0.229       0.588\n",
      "Textbooks       0.6653      0.338      1.966      0.049       0.002       1.329\n",
      "Jornal         -0.4439      0.355     -1.251      0.211      -1.139       0.252\n",
      "Internet        0.1468      0.291      0.504      0.614      -0.424       0.718\n",
      "Campaigns       0.0996      0.321      0.310      0.756      -0.530       0.729\n",
      "General        -0.1256      0.280     -0.449      0.653      -0.674       0.422\n",
      "Gender          0.3627      0.246      1.475      0.140      -0.119       0.845\n",
      "Public         -2.9568      0.430     -6.872      0.000      -3.800      -2.113\n",
      "Private         0.9048      0.395      2.292      0.022       0.131       1.678\n",
      "Outpatients    -0.3484      0.390     -0.892      0.372      -1.114       0.417\n",
      "PCC            -0.4833      0.547     -0.883      0.377      -1.556       0.589\n",
      "===============================================================================\n"
     ]
    }
   ],
   "source": [
    "model = sm.Logit(y_data_LoR, x_data)\n",
    "result = model.fit()\n",
    "print(result.summary())"
   ]
  },
  {
   "cell_type": "code",
   "execution_count": null,
   "metadata": {},
   "outputs": [],
   "source": []
  }
 ],
 "metadata": {
  "kernelspec": {
   "display_name": "Python 3",
   "language": "python",
   "name": "python3"
  },
  "language_info": {
   "codemirror_mode": {
    "name": "ipython",
    "version": 3
   },
   "file_extension": ".py",
   "mimetype": "text/x-python",
   "name": "python",
   "nbconvert_exporter": "python",
   "pygments_lexer": "ipython3",
   "version": "3.7.4"
  }
 },
 "nbformat": 4,
 "nbformat_minor": 2
}
