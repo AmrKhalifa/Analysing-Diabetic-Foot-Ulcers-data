{
 "cells": [
  {
   "cell_type": "code",
   "execution_count": 32,
   "metadata": {},
   "outputs": [],
   "source": [
    "import pandas as pd \n",
    "import matplotlib.pyplot as plt\n",
    "from statsmodels.stats.weightstats import ztest\n",
    "from scipy.stats import chi2_contingency\n",
    "import numpy as np\n",
    "float_formatter = \"{:2.2f}\".format\n",
    "np.set_printoptions(formatter={'float_kind':float_formatter})\n",
    "from collections import Counter\n",
    "from scipy.stats import f_oneway\n",
    "import scikit_posthocs as sp\n",
    "import scipy.stats as ss"
   ]
  },
  {
   "cell_type": "code",
   "execution_count": 7,
   "metadata": {},
   "outputs": [],
   "source": [
    "df = pd.read_excel(\"./data/azza_data/AMR.xlsx\")"
   ]
  },
  {
   "cell_type": "code",
   "execution_count": 8,
   "metadata": {},
   "outputs": [
    {
     "data": {
      "text/html": [
       "<div>\n",
       "<style scoped>\n",
       "    .dataframe tbody tr th:only-of-type {\n",
       "        vertical-align: middle;\n",
       "    }\n",
       "\n",
       "    .dataframe tbody tr th {\n",
       "        vertical-align: top;\n",
       "    }\n",
       "\n",
       "    .dataframe thead th {\n",
       "        text-align: right;\n",
       "    }\n",
       "</style>\n",
       "<table border=\"1\" class=\"dataframe\">\n",
       "  <thead>\n",
       "    <tr style=\"text-align: right;\">\n",
       "      <th></th>\n",
       "      <th>Degree</th>\n",
       "      <th>approach</th>\n",
       "      <th>scores</th>\n",
       "      <th>Years</th>\n",
       "      <th>Textbooks</th>\n",
       "      <th>Jornal</th>\n",
       "      <th>Internet</th>\n",
       "      <th>Campaigns</th>\n",
       "      <th>General</th>\n",
       "      <th>Developing</th>\n",
       "      <th>USA</th>\n",
       "      <th>UK</th>\n",
       "      <th>Gender</th>\n",
       "      <th>Public</th>\n",
       "      <th>Private</th>\n",
       "      <th>Outpatients</th>\n",
       "      <th>PCC</th>\n",
       "    </tr>\n",
       "  </thead>\n",
       "  <tbody>\n",
       "    <tr>\n",
       "      <td>count</td>\n",
       "      <td>358.000000</td>\n",
       "      <td>358.000000</td>\n",
       "      <td>358.000000</td>\n",
       "      <td>358.000000</td>\n",
       "      <td>358.000000</td>\n",
       "      <td>358.000000</td>\n",
       "      <td>358.000000</td>\n",
       "      <td>358.000000</td>\n",
       "      <td>358.000000</td>\n",
       "      <td>358.000000</td>\n",
       "      <td>358.00000</td>\n",
       "      <td>358.000000</td>\n",
       "      <td>358.000000</td>\n",
       "      <td>358.000000</td>\n",
       "      <td>358.000000</td>\n",
       "      <td>358.000000</td>\n",
       "      <td>358.000000</td>\n",
       "    </tr>\n",
       "    <tr>\n",
       "      <td>mean</td>\n",
       "      <td>2.991620</td>\n",
       "      <td>0.525140</td>\n",
       "      <td>14.648045</td>\n",
       "      <td>1.256983</td>\n",
       "      <td>0.826816</td>\n",
       "      <td>0.189944</td>\n",
       "      <td>0.349162</td>\n",
       "      <td>0.223464</td>\n",
       "      <td>0.349162</td>\n",
       "      <td>0.343575</td>\n",
       "      <td>0.22905</td>\n",
       "      <td>0.343575</td>\n",
       "      <td>0.497207</td>\n",
       "      <td>0.807263</td>\n",
       "      <td>0.175978</td>\n",
       "      <td>0.145251</td>\n",
       "      <td>0.072626</td>\n",
       "    </tr>\n",
       "    <tr>\n",
       "      <td>std</td>\n",
       "      <td>0.971549</td>\n",
       "      <td>0.500067</td>\n",
       "      <td>4.709384</td>\n",
       "      <td>0.530201</td>\n",
       "      <td>0.378936</td>\n",
       "      <td>0.392806</td>\n",
       "      <td>0.477372</td>\n",
       "      <td>0.417150</td>\n",
       "      <td>0.477372</td>\n",
       "      <td>0.475566</td>\n",
       "      <td>0.42081</td>\n",
       "      <td>0.475566</td>\n",
       "      <td>0.500692</td>\n",
       "      <td>0.395001</td>\n",
       "      <td>0.381334</td>\n",
       "      <td>0.352847</td>\n",
       "      <td>0.259884</td>\n",
       "    </tr>\n",
       "    <tr>\n",
       "      <td>min</td>\n",
       "      <td>1.000000</td>\n",
       "      <td>0.000000</td>\n",
       "      <td>4.000000</td>\n",
       "      <td>1.000000</td>\n",
       "      <td>0.000000</td>\n",
       "      <td>0.000000</td>\n",
       "      <td>0.000000</td>\n",
       "      <td>0.000000</td>\n",
       "      <td>0.000000</td>\n",
       "      <td>0.000000</td>\n",
       "      <td>0.00000</td>\n",
       "      <td>0.000000</td>\n",
       "      <td>0.000000</td>\n",
       "      <td>0.000000</td>\n",
       "      <td>0.000000</td>\n",
       "      <td>0.000000</td>\n",
       "      <td>0.000000</td>\n",
       "    </tr>\n",
       "    <tr>\n",
       "      <td>25%</td>\n",
       "      <td>2.000000</td>\n",
       "      <td>0.000000</td>\n",
       "      <td>11.000000</td>\n",
       "      <td>1.000000</td>\n",
       "      <td>1.000000</td>\n",
       "      <td>0.000000</td>\n",
       "      <td>0.000000</td>\n",
       "      <td>0.000000</td>\n",
       "      <td>0.000000</td>\n",
       "      <td>0.000000</td>\n",
       "      <td>0.00000</td>\n",
       "      <td>0.000000</td>\n",
       "      <td>0.000000</td>\n",
       "      <td>1.000000</td>\n",
       "      <td>0.000000</td>\n",
       "      <td>0.000000</td>\n",
       "      <td>0.000000</td>\n",
       "    </tr>\n",
       "    <tr>\n",
       "      <td>50%</td>\n",
       "      <td>3.000000</td>\n",
       "      <td>1.000000</td>\n",
       "      <td>15.000000</td>\n",
       "      <td>1.000000</td>\n",
       "      <td>1.000000</td>\n",
       "      <td>0.000000</td>\n",
       "      <td>0.000000</td>\n",
       "      <td>0.000000</td>\n",
       "      <td>0.000000</td>\n",
       "      <td>0.000000</td>\n",
       "      <td>0.00000</td>\n",
       "      <td>0.000000</td>\n",
       "      <td>0.000000</td>\n",
       "      <td>1.000000</td>\n",
       "      <td>0.000000</td>\n",
       "      <td>0.000000</td>\n",
       "      <td>0.000000</td>\n",
       "    </tr>\n",
       "    <tr>\n",
       "      <td>75%</td>\n",
       "      <td>4.000000</td>\n",
       "      <td>1.000000</td>\n",
       "      <td>18.000000</td>\n",
       "      <td>1.000000</td>\n",
       "      <td>1.000000</td>\n",
       "      <td>0.000000</td>\n",
       "      <td>1.000000</td>\n",
       "      <td>0.000000</td>\n",
       "      <td>1.000000</td>\n",
       "      <td>1.000000</td>\n",
       "      <td>0.00000</td>\n",
       "      <td>1.000000</td>\n",
       "      <td>1.000000</td>\n",
       "      <td>1.000000</td>\n",
       "      <td>0.000000</td>\n",
       "      <td>0.000000</td>\n",
       "      <td>0.000000</td>\n",
       "    </tr>\n",
       "    <tr>\n",
       "      <td>max</td>\n",
       "      <td>4.000000</td>\n",
       "      <td>1.000000</td>\n",
       "      <td>26.000000</td>\n",
       "      <td>3.000000</td>\n",
       "      <td>1.000000</td>\n",
       "      <td>1.000000</td>\n",
       "      <td>1.000000</td>\n",
       "      <td>1.000000</td>\n",
       "      <td>1.000000</td>\n",
       "      <td>1.000000</td>\n",
       "      <td>1.00000</td>\n",
       "      <td>1.000000</td>\n",
       "      <td>1.000000</td>\n",
       "      <td>1.000000</td>\n",
       "      <td>1.000000</td>\n",
       "      <td>1.000000</td>\n",
       "      <td>1.000000</td>\n",
       "    </tr>\n",
       "  </tbody>\n",
       "</table>\n",
       "</div>"
      ],
      "text/plain": [
       "           Degree    approach      scores       Years   Textbooks      Jornal  \\\n",
       "count  358.000000  358.000000  358.000000  358.000000  358.000000  358.000000   \n",
       "mean     2.991620    0.525140   14.648045    1.256983    0.826816    0.189944   \n",
       "std      0.971549    0.500067    4.709384    0.530201    0.378936    0.392806   \n",
       "min      1.000000    0.000000    4.000000    1.000000    0.000000    0.000000   \n",
       "25%      2.000000    0.000000   11.000000    1.000000    1.000000    0.000000   \n",
       "50%      3.000000    1.000000   15.000000    1.000000    1.000000    0.000000   \n",
       "75%      4.000000    1.000000   18.000000    1.000000    1.000000    0.000000   \n",
       "max      4.000000    1.000000   26.000000    3.000000    1.000000    1.000000   \n",
       "\n",
       "         Internet   Campaigns     General  Developing        USA          UK  \\\n",
       "count  358.000000  358.000000  358.000000  358.000000  358.00000  358.000000   \n",
       "mean     0.349162    0.223464    0.349162    0.343575    0.22905    0.343575   \n",
       "std      0.477372    0.417150    0.477372    0.475566    0.42081    0.475566   \n",
       "min      0.000000    0.000000    0.000000    0.000000    0.00000    0.000000   \n",
       "25%      0.000000    0.000000    0.000000    0.000000    0.00000    0.000000   \n",
       "50%      0.000000    0.000000    0.000000    0.000000    0.00000    0.000000   \n",
       "75%      1.000000    0.000000    1.000000    1.000000    0.00000    1.000000   \n",
       "max      1.000000    1.000000    1.000000    1.000000    1.00000    1.000000   \n",
       "\n",
       "           Gender      Public     Private  Outpatients         PCC  \n",
       "count  358.000000  358.000000  358.000000   358.000000  358.000000  \n",
       "mean     0.497207    0.807263    0.175978     0.145251    0.072626  \n",
       "std      0.500692    0.395001    0.381334     0.352847    0.259884  \n",
       "min      0.000000    0.000000    0.000000     0.000000    0.000000  \n",
       "25%      0.000000    1.000000    0.000000     0.000000    0.000000  \n",
       "50%      0.000000    1.000000    0.000000     0.000000    0.000000  \n",
       "75%      1.000000    1.000000    0.000000     0.000000    0.000000  \n",
       "max      1.000000    1.000000    1.000000     1.000000    1.000000  "
      ]
     },
     "execution_count": 8,
     "metadata": {},
     "output_type": "execute_result"
    }
   ],
   "source": [
    "df.describe()"
   ]
  },
  {
   "cell_type": "code",
   "execution_count": 9,
   "metadata": {},
   "outputs": [],
   "source": [
    "part_1 = df[['scores','Degree']]"
   ]
  },
  {
   "cell_type": "code",
   "execution_count": 59,
   "metadata": {},
   "outputs": [],
   "source": [
    "splits = []\n",
    "for i in range(1,5):\n",
    "    x = part_1.loc[part_1['Degree'] == i]\n",
    "    x = x[['scores']]\n",
    "    splits.append(x)"
   ]
  },
  {
   "cell_type": "code",
   "execution_count": 60,
   "metadata": {},
   "outputs": [
    {
     "name": "stdout",
     "output_type": "stream",
     "text": [
      "[3.04] [0.03]\n"
     ]
    }
   ],
   "source": [
    "array =[item.values for item in splits]\n",
    "a, b, c, d = tuple(array)\n",
    "s, pval = f_oneway(a, b, c, d)\n",
    "print(s, pval)"
   ]
  },
  {
   "cell_type": "code",
   "execution_count": 61,
   "metadata": {},
   "outputs": [
    {
     "name": "stdout",
     "output_type": "stream",
     "text": [
      "8.267007088850038 0.04080405152062407\n"
     ]
    }
   ],
   "source": [
    "H, post_hoc_pval = ss.kruskal(a, b, c, d)\n",
    "print(H, post_hoc_pval)"
   ]
  },
  {
   "cell_type": "code",
   "execution_count": 73,
   "metadata": {},
   "outputs": [
    {
     "data": {
      "text/plain": [
       "(<matplotlib.axes._subplots.AxesSubplot at 0x869ecce548>,\n",
       " <matplotlib.colorbar.ColorbarBase at 0x869ed4e248>)"
      ]
     },
     "execution_count": 73,
     "metadata": {},
     "output_type": "execute_result"
    },
    {
     "data": {
      "image/png": "[encoded data removed]",
      "text/plain": [
       "<Figure size 432x288 with 2 Axes>"
      ]
     },
     "metadata": {
      "needs_background": "light"
     },
     "output_type": "display_data"
    }
   ],
   "source": [
    "pc = sp.posthoc_conover(part_1, val_col='scores', group_col='Degree')\n",
    "cmap = ['1', '#fb6a4a',  '#08306b',  '#4292c6', '#c6dbef']\n",
    "heatmap_args = {'cmap': cmap, 'linewidths': 0.25, 'linecolor': '0.5', 'clip_on': False, 'square': True, 'cbar_ax_bbox': [0.80, 0.35, 0.04, 0.3]}\n",
    "sp.sign_plot(pc, **heatmap_args)"
   ]
  },
  {
   "cell_type": "code",
   "execution_count": null,
   "metadata": {},
   "outputs": [],
   "source": []
  }
 ],
 "metadata": {
  "kernelspec": {
   "display_name": "Python 3",
   "language": "python",
   "name": "python3"
  },
  "language_info": {
   "codemirror_mode": {
    "name": "ipython",
    "version": 3
   },
   "file_extension": ".py",
   "mimetype": "text/x-python",
   "name": "python",
   "nbconvert_exporter": "python",
   "pygments_lexer": "ipython3",
   "version": "3.7.4"
  }
 },
 "nbformat": 4,
 "nbformat_minor": 2
}
